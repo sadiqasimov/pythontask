{
 "cells": [
  {
   "cell_type": "markdown",
   "id": "641f3135",
   "metadata": {},
   "source": [
    "Create a program that gets from user 4 inputs that represent the expenses (\"Transportation\", \"Eating out\", \"Groceries\", \"Health and cosmetics\"). The program should calculate the total expense."
   ]
  },
  {
   "cell_type": "code",
   "execution_count": null,
   "id": "86cd30d6",
   "metadata": {},
   "outputs": [],
   "source": [
    "trp = int(input(\"Transportation cost: \"))\n",
    "eo = int(input(\"Eating out cost: \"))\n",
    "grc = int(input(\"Groceries cost: \"))\n",
    "hc = int(input(\"Health and Cosmetics cost: \"))\n",
    "print(\"Total: \",trp+eo+grc+hc)"
   ]
  },
  {
   "cell_type": "markdown",
   "id": "a3a59ffd",
   "metadata": {},
   "source": [
    "Create a program where user enters a password. If the password is \"bigsecret\" display \"Access granted\", otherwise display \"Access denied\"."
   ]
  },
  {
   "cell_type": "code",
   "execution_count": null,
   "id": "3b3e5059",
   "metadata": {},
   "outputs": [],
   "source": [
    "passw = input(\"Password: \")\n",
    "if passw=='bigsecret':\n",
    "    print('Access granted')\n",
    "else:\n",
    "    print(\"Access denied\")"
   ]
  },
  {
   "cell_type": "markdown",
   "id": "4c92e4a6",
   "metadata": {},
   "source": [
    "Create a program that asks user a question until the user answers it correctly."
   ]
  },
  {
   "cell_type": "code",
   "execution_count": 5,
   "id": "8a3d7633",
   "metadata": {},
   "outputs": [
    {
     "name": "stdin",
     "output_type": "stream",
     "text": [
      "What is answer of 2+2=?:  1\n",
      "Wrong! Try again:  4\n"
     ]
    },
    {
     "name": "stdout",
     "output_type": "stream",
     "text": [
      "Congrulation! Correct answer is: 4\n"
     ]
    }
   ],
   "source": [
    "quest = int(input(\"What is answer of 2+2=?: \"))\n",
    "ans = 4\n",
    "while quest!=ans:\n",
    "    quest=int(input(\"Wrong! Try again: \"))\n",
    "    if quest==ans:\n",
    "        print(\"Congrulation! Correct answer is:\",ans)"
   ]
  },
  {
   "cell_type": "markdown",
   "id": "d986ba9c",
   "metadata": {},
   "source": [
    "Create a program that takes two inputs from a user: username and password. The program should ask for these inputs until each field is valid. The username must be at least 6 characters long. Password must be at least 8 characters long and contain a word \"anonim\" or \"anon\" in it."
   ]
  },
  {
   "cell_type": "code",
   "execution_count": 11,
   "id": "6fe1a050",
   "metadata": {},
   "outputs": [
    {
     "name": "stdin",
     "output_type": "stream",
     "text": [
      "Username:  231\n",
      "Password:  312\n",
      "Try again! Username:  anon\n",
      "Try again! Password:  anonimlik\n"
     ]
    },
    {
     "name": "stdout",
     "output_type": "stream",
     "text": [
      "Hello anon Your password is: anonimlik\n"
     ]
    }
   ],
   "source": [
    "usna = input(\"Username: \")\n",
    "passw = input(\"Password: \")\n",
    "valid = \"novalid\"\n",
    "while valid==\"novalid\":\n",
    "    usna = input(\"Try again! Username: \")\n",
    "    passw = input(\"Try again! Password: \")\n",
    "    if len(usna)>=6 and len(passw)>=8 and (\"anonim\" or \"anon\" in passw):\n",
    "        print(\"Hello\",usna,\"Your password is:\",passw)\n",
    "        valid = \"valid\""
   ]
  },
  {
   "cell_type": "markdown",
   "id": "4f850d4d",
   "metadata": {},
   "source": [
    "Write a program that displays how many thousands, hundreds, tens, ones (units) are in the number given by user (Assume that user always enters integers).\n",
    "\n",
    "Example:\n",
    "\n",
    "Number: 1437\n",
    "\n",
    "Thousands: 1\n",
    "\n",
    "Hundreds: 4\n",
    "\n",
    "Tens: 3\n",
    "\n",
    "Ones: 7\n",
    "\n",
    "**Bu Task While-a aid deyil**"
   ]
  },
  {
   "cell_type": "code",
   "execution_count": 12,
   "id": "edb31fd9",
   "metadata": {},
   "outputs": [
    {
     "name": "stdin",
     "output_type": "stream",
     "text": [
      "Enter number:  1042\n"
     ]
    },
    {
     "name": "stdout",
     "output_type": "stream",
     "text": [
      "one: 2 ten: 4 hun: 0 tho: 1\n"
     ]
    }
   ],
   "source": [
    "num = int(input(\"Enter number: \"))\n",
    "one = num%10\n",
    "ten = (num//10)%10\n",
    "hun = (num//100)%10\n",
    "tho = num//1000\n",
    "print(\"one:\",one,\"ten:\",ten,\"hun:\",hun,\"tho:\",tho)"
   ]
  },
  {
   "cell_type": "markdown",
   "id": "19d1d44a",
   "metadata": {},
   "source": [
    "Write a program that displays all odd numbers between 0 and 100\n",
    "\n",
    "VERSION 2\n",
    "\n",
    "The end point is determined by the user\n",
    "\n",
    "VERSION 3\n",
    "\n",
    "Display the amount of odd numbers as well"
   ]
  },
  {
   "cell_type": "code",
   "execution_count": null,
   "id": "652c1112",
   "metadata": {},
   "outputs": [],
   "source": [
    "#vers 1\n",
    "for i in range(0,100):\n",
    "    if i%2!=0:\n",
    "        print(i)\n",
    "\n",
    "#vers 2\n",
    "ep = int(input(\"end point is: \"))\n",
    "for i in range(0,ep):\n",
    "    if i%2!=0:\n",
    "        print(i)\n",
    "\n",
    "#vers 3\n",
    "ep = int(input(\"end point is: \"))\n",
    "amo = 0\n",
    "for i in range(0,ep):\n",
    "    if i%2!=0:\n",
    "        amo+=1\n",
    "print(amo)"
   ]
  },
  {
   "cell_type": "markdown",
   "id": "e61bb523",
   "metadata": {},
   "source": [
    "Write a program that adds all numbers until 20 inclusive\n",
    "\n",
    "1 + 2 + 3 + 4 ... + 20 = 210"
   ]
  },
  {
   "cell_type": "code",
   "execution_count": 13,
   "id": "0099a08a",
   "metadata": {},
   "outputs": [
    {
     "name": "stdout",
     "output_type": "stream",
     "text": [
      "210\n"
     ]
    }
   ],
   "source": [
    "a=0\n",
    "for i in range(0,21):\n",
    "    a+=i\n",
    "print(a)"
   ]
  },
  {
   "cell_type": "markdown",
   "id": "100d2d02",
   "metadata": {},
   "source": [
    "Write a program that takes three numbers as an input (a, b, c) and checks how many numbers between a and b are divisible by c.\n",
    "\n",
    "Example:\n",
    "\n",
    "a: 0\n",
    "\n",
    "b: 10\n",
    "\n",
    "c: 2\n",
    "\n",
    "There are 5 numbers divisible by 2 between 0 and 10"
   ]
  },
  {
   "cell_type": "code",
   "execution_count": 14,
   "id": "ece1a269",
   "metadata": {},
   "outputs": [
    {
     "name": "stdin",
     "output_type": "stream",
     "text": [
      "enter a:  5\n",
      "enter b:  25\n",
      "enter c:  3\n"
     ]
    },
    {
     "name": "stdout",
     "output_type": "stream",
     "text": [
      "6\n",
      "9\n",
      "12\n",
      "15\n",
      "18\n",
      "21\n",
      "24\n",
      "amount: 7\n"
     ]
    }
   ],
   "source": [
    "a = int(input(\"enter a: \"))\n",
    "b = int(input(\"enter b: \"))\n",
    "c = int(input(\"enter c: \"))\n",
    "d = 0\n",
    "for i in range(a,b+1):\n",
    "    if i%c==0:\n",
    "        print(i)\n",
    "        d+=1\n",
    "print(\"amount:\",d)\n"
   ]
  },
  {
   "cell_type": "markdown",
   "id": "5033cb61",
   "metadata": {},
   "source": [
    "Create a program that asks user to enter a password. The password must me at least 6 characters long. The program does not stop until user enters a valid password\n",
    "\n",
    "Example:\n",
    "\n",
    "Password: 123\n",
    "\n",
    "Invalid password, try again... Password: 123456\n",
    "\n",
    "Success"
   ]
  },
  {
   "cell_type": "code",
   "execution_count": 17,
   "id": "a8dc85f8",
   "metadata": {},
   "outputs": [
    {
     "name": "stdin",
     "output_type": "stream",
     "text": [
      "password:  1234\n"
     ]
    },
    {
     "name": "stdout",
     "output_type": "stream",
     "text": [
      "password not valid and less than 6 symbol!\n"
     ]
    },
    {
     "name": "stdin",
     "output_type": "stream",
     "text": [
      "Try again! password:  1234567\n",
      "Try again! password:  12345t6\n"
     ]
    },
    {
     "name": "stdout",
     "output_type": "stream",
     "text": [
      "Success\n"
     ]
    }
   ],
   "source": [
    "passw=input(\"password: \")\n",
    "vp = \"12345t6\"\n",
    "while passw!=vp:\n",
    "    if len(passw)<6:\n",
    "        print(\"password not valid and less than 6 symbol!\")\n",
    "    passw=input(\"Try again! password: \")\n",
    "print(\"Success\")"
   ]
  },
  {
   "cell_type": "markdown",
   "id": "8401f816",
   "metadata": {},
   "source": [
    "Write a program that tells whether a triangle with given sides exists or not.\n",
    "\n",
    "\n",
    "Example\n",
    "\n",
    "Side a: 5\n",
    "\n",
    "Side b: 6\n",
    "\n",
    "Side c: 7\n",
    "\n",
    "Triangle with sides 5, 6, 7 exists\n",
    "\n",
    "Side a: 10\n",
    "\n",
    "Side b: 4\n",
    "\n",
    "Side c: 3\n",
    "\n",
    "Triangle with sides 10, 4, 3 DOES NOT exist"
   ]
  },
  {
   "cell_type": "code",
   "execution_count": null,
   "id": "62045493",
   "metadata": {},
   "outputs": [],
   "source": [
    "a = int(input(\"side a: \"))\n",
    "b = int(input(\"side b: \"))\n",
    "c = int(input(\"side c: \"))\n",
    "if a+b>c and a+c>b and b+c>a:\n",
    "    print(\"Triangle with sides \",a,b,c,\"exists\")\n",
    "else:\n",
    "    print(\"Triangle with sides \",a,b,c,\"DOES NOT exist\")"
   ]
  },
  {
   "cell_type": "markdown",
   "id": "fc40ad74",
   "metadata": {},
   "source": [
    "Create a program that asks the user to guess a randomly generated secret number (from 1 to 12 inclusive). If the user enters a number that is less or greater than secret number, display corresponding message. The user can guess only 4 times. The program doesn't stop until the user guesses the secret number or the attempt limit is reached. Display the amount of attempts it took for the user to guess the secret number.\n",
    "\n",
    "Example:\n",
    "\n",
    "Your guess: 5\n",
    "\n",
    "Go higher\n",
    "\n",
    "Your guess: 12\n",
    "\n",
    "Go lower\n",
    "\n",
    "Your guess: 10\n",
    "\n",
    "You won!\n",
    "\n",
    "It took you 3 attempts to win the game\n",
    "\n",
    "Another example:\n",
    "\n",
    "Your guess: 2\n",
    "\n",
    "Go higher\n",
    "\n",
    "Your guess: 3\n",
    "\n",
    "Go higher\n",
    "\n",
    "Your guess: 12\n",
    "\n",
    "Go lower\n",
    "\n",
    "Your guess: 11\n",
    "\n",
    "You lost... the secret number is 10"
   ]
  },
  {
   "cell_type": "code",
   "execution_count": 26,
   "id": "de4b1d69",
   "metadata": {},
   "outputs": [
    {
     "name": "stdin",
     "output_type": "stream",
     "text": [
      "number:  15\n",
      "Try again! num:  14\n",
      "Try again! num:  10\n"
     ]
    },
    {
     "name": "stdout",
     "output_type": "stream",
     "text": [
      "You won! Your attempts: 3\n"
     ]
    }
   ],
   "source": [
    "num = int(input(\"number: \"))\n",
    "numt = 10\n",
    "t = 1\n",
    "\n",
    "while t<=4:\n",
    "    num = int(input(\"Try again! num: \"))\n",
    "    t+=1\n",
    "    if num==numt:\n",
    "        break\n",
    "\n",
    "if t>=4:\n",
    "    print(\"You failed! secret number is\",numt)\n",
    "else:\n",
    "    print(\"You won!\",\"Your attempts:\",t)"
   ]
  },
  {
   "cell_type": "code",
   "execution_count": null,
   "id": "0defb593-e9b9-4cde-8002-f35d48a735a8",
   "metadata": {},
   "outputs": [],
   "source": []
  }
 ],
 "metadata": {
  "kernelspec": {
   "display_name": "Python 3 (ipykernel)",
   "language": "python",
   "name": "python3"
  },
  "language_info": {
   "codemirror_mode": {
    "name": "ipython",
    "version": 3
   },
   "file_extension": ".py",
   "mimetype": "text/x-python",
   "name": "python",
   "nbconvert_exporter": "python",
   "pygments_lexer": "ipython3",
   "version": "3.11.7"
  }
 },
 "nbformat": 4,
 "nbformat_minor": 5
}
